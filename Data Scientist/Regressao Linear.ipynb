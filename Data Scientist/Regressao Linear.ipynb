{
 "cells": [
  {
   "cell_type": "markdown",
   "id": "649437b9",
   "metadata": {},
   "source": [
    "# Imports"
   ]
  },
  {
   "cell_type": "code",
   "execution_count": 1,
   "id": "e3670556",
   "metadata": {},
   "outputs": [],
   "source": [
    "import pandas as pd\n",
    "import numpy as np\n",
    "from matplotlib import pyplot as plt\n",
    "from sklearn import linear_model as lm"
   ]
  },
  {
   "cell_type": "markdown",
   "id": "d7d0546a",
   "metadata": {},
   "source": [
    "# Creating Data"
   ]
  },
  {
   "cell_type": "code",
   "execution_count": 2,
   "id": "df749f0b",
   "metadata": {},
   "outputs": [],
   "source": [
    "dataFrame = {'ht': [63,64,66,69,69,71,71,72,73,75],\n",
    "      'wt': [127,121,142,157,162,156,169,165,181,208]}"
   ]
  },
  {
   "cell_type": "code",
   "execution_count": 3,
   "id": "1dda0efc",
   "metadata": {},
   "outputs": [
    {
     "data": {
      "text/html": [
       "<div>\n",
       "<style scoped>\n",
       "    .dataframe tbody tr th:only-of-type {\n",
       "        vertical-align: middle;\n",
       "    }\n",
       "\n",
       "    .dataframe tbody tr th {\n",
       "        vertical-align: top;\n",
       "    }\n",
       "\n",
       "    .dataframe thead th {\n",
       "        text-align: right;\n",
       "    }\n",
       "</style>\n",
       "<table border=\"1\" class=\"dataframe\">\n",
       "  <thead>\n",
       "    <tr style=\"text-align: right;\">\n",
       "      <th></th>\n",
       "      <th>altura</th>\n",
       "      <th>peso</th>\n",
       "    </tr>\n",
       "  </thead>\n",
       "  <tbody>\n",
       "    <tr>\n",
       "      <th>0</th>\n",
       "      <td>63</td>\n",
       "      <td>127</td>\n",
       "    </tr>\n",
       "    <tr>\n",
       "      <th>1</th>\n",
       "      <td>64</td>\n",
       "      <td>121</td>\n",
       "    </tr>\n",
       "    <tr>\n",
       "      <th>2</th>\n",
       "      <td>66</td>\n",
       "      <td>142</td>\n",
       "    </tr>\n",
       "    <tr>\n",
       "      <th>3</th>\n",
       "      <td>69</td>\n",
       "      <td>157</td>\n",
       "    </tr>\n",
       "    <tr>\n",
       "      <th>4</th>\n",
       "      <td>69</td>\n",
       "      <td>162</td>\n",
       "    </tr>\n",
       "    <tr>\n",
       "      <th>5</th>\n",
       "      <td>71</td>\n",
       "      <td>156</td>\n",
       "    </tr>\n",
       "    <tr>\n",
       "      <th>6</th>\n",
       "      <td>71</td>\n",
       "      <td>169</td>\n",
       "    </tr>\n",
       "    <tr>\n",
       "      <th>7</th>\n",
       "      <td>72</td>\n",
       "      <td>165</td>\n",
       "    </tr>\n",
       "    <tr>\n",
       "      <th>8</th>\n",
       "      <td>73</td>\n",
       "      <td>181</td>\n",
       "    </tr>\n",
       "    <tr>\n",
       "      <th>9</th>\n",
       "      <td>75</td>\n",
       "      <td>208</td>\n",
       "    </tr>\n",
       "  </tbody>\n",
       "</table>\n",
       "</div>"
      ],
      "text/plain": [
       "   altura  peso\n",
       "0      63   127\n",
       "1      64   121\n",
       "2      66   142\n",
       "3      69   157\n",
       "4      69   162\n",
       "5      71   156\n",
       "6      71   169\n",
       "7      72   165\n",
       "8      73   181\n",
       "9      75   208"
      ]
     },
     "execution_count": 3,
     "metadata": {},
     "output_type": "execute_result"
    }
   ],
   "source": [
    "df = pd.DataFrame(dataFrame)\n",
    "\n",
    "# Renomeando as colunas\n",
    "df.columns = ['altura','peso']\n",
    "df"
   ]
  },
  {
   "cell_type": "code",
   "execution_count": 4,
   "id": "f3c8c955",
   "metadata": {},
   "outputs": [
    {
     "data": {
      "text/plain": [
       "<matplotlib.collections.PathCollection at 0x28d627f54c0>"
      ]
     },
     "execution_count": 4,
     "metadata": {},
     "output_type": "execute_result"
    },
    {
     "data": {
      "image/png": "[encoded data removed]",
      "text/plain": [
       "<Figure size 432x288 with 1 Axes>"
      ]
     },
     "metadata": {
      "needs_background": "light"
     },
     "output_type": "display_data"
    }
   ],
   "source": [
    "# Plotando os dados do DataFrame\n",
    "plt.scatter(df['altura'],df['peso'])"
   ]
  },
  {
   "cell_type": "code",
   "execution_count": 5,
   "id": "bd34dfd2",
   "metadata": {},
   "outputs": [],
   "source": [
    "# Modelo de reta\n",
    "#yhat = b0 + b1*x \n",
    "x = df['altura']\n",
    "yhat01 = -190 + 5.13*x\n",
    "yhat02 = -260 + 6.01*x"
   ]
  },
  {
   "cell_type": "code",
   "execution_count": 6,
   "id": "e3f35f64",
   "metadata": {},
   "outputs": [
    {
     "data": {
      "text/plain": [
       "[<matplotlib.lines.Line2D at 0x28d62fbecd0>]"
      ]
     },
     "execution_count": 6,
     "metadata": {},
     "output_type": "execute_result"
    },
    {
     "data": {
      "image/png": "[encoded data removed]",
      "text/plain": [
       "<Figure size 432x288 with 1 Axes>"
      ]
     },
     "metadata": {
      "needs_background": "light"
     },
     "output_type": "display_data"
    }
   ],
   "source": [
    "plt.scatter(df['altura'],df['peso'])\n",
    "plt.plot(df['altura'], yhat01, color = 'red')\n",
    "plt.plot(df['altura'], yhat02, color = 'green')"
   ]
  },
  {
   "cell_type": "markdown",
   "id": "8a20e234",
   "metadata": {},
   "source": [
    "# Least Square Error"
   ]
  },
  {
   "cell_type": "code",
   "execution_count": 7,
   "id": "d3ecf844",
   "metadata": {},
   "outputs": [
    {
     "name": "stdout",
     "output_type": "stream",
     "text": [
      "SS M01: 1187.6947000000002\n",
      "SS M02: 652.8562999999997\n"
     ]
    }
   ],
   "source": [
    "# Adicionando novas colunas no DataFrame\n",
    "df['yhat01'] = yhat01\n",
    "df['yhat02'] = yhat02\n",
    "\n",
    "# Calculando os erros -> Valor real - Valor da média\n",
    "df['error01'] = (df['peso'] - df['yhat01'])**2\n",
    "df['error02'] = (df['peso'] - df['yhat02'])**2\n",
    "\n",
    "# Somando os erros\n",
    "print ('SS M01: {}'.format(np.sum(df['error01'])))\n",
    "print ('SS M02: {}'.format(np.sum(df['error02'])))"
   ]
  },
  {
   "cell_type": "code",
   "execution_count": 8,
   "id": "a7267e33",
   "metadata": {},
   "outputs": [
    {
     "data": {
      "text/plain": [
       "LinearRegression()"
      ]
     },
     "execution_count": 8,
     "metadata": {},
     "output_type": "execute_result"
    }
   ],
   "source": [
    "# Definição do modelo\n",
    "x = np.array(df['altura']).reshape(-1,1)\n",
    "y = np.array(df['peso']).reshape(-1,1)\n",
    "model_lm = lm.LinearRegression()\n",
    "\n",
    "# Treinando o modelo\n",
    "model_lm.fit(x,y)"
   ]
  },
  {
   "cell_type": "code",
   "execution_count": 9,
   "id": "19e03750",
   "metadata": {},
   "outputs": [
    {
     "name": "stdout",
     "output_type": "stream",
     "text": [
      "b1: [[6.13758146]]\n",
      "b0: [-266.53439537]\n"
     ]
    }
   ],
   "source": [
    "# Encontrando os parâmetros para construir a melhor reta\n",
    "print('b1: {}'.format(model_lm.coef_))\n",
    "print('b0: {}'.format(model_lm.intercept_))"
   ]
  },
  {
   "cell_type": "code",
   "execution_count": 10,
   "id": "9a383739",
   "metadata": {},
   "outputs": [],
   "source": [
    "# yhat = b0 + b1*x (linha reta)\n",
    "yhat01 = -190 + 5.13*x\n",
    "yhat02 = -260 + 6.01*x\n",
    "yhat03 = -266 + 6.13*x"
   ]
  },
  {
   "cell_type": "code",
   "execution_count": 11,
   "id": "4245785a",
   "metadata": {},
   "outputs": [
    {
     "data": {
      "text/plain": [
       "[<matplotlib.lines.Line2D at 0x28d63042850>]"
      ]
     },
     "execution_count": 11,
     "metadata": {},
     "output_type": "execute_result"
    },
    {
     "data": {
      "image/png": "[encoded data removed]",
      "text/plain": [
       "<Figure size 432x288 with 1 Axes>"
      ]
     },
     "metadata": {
      "needs_background": "light"
     },
     "output_type": "display_data"
    }
   ],
   "source": [
    "plt.scatter(df['altura'],df['peso'])\n",
    "plt.plot(df['altura'], yhat01, color = 'red')\n",
    "plt.plot(df['altura'], yhat02, color = 'green')\n",
    "plt.plot(df['altura'], yhat03, color = 'blue')"
   ]
  },
  {
   "cell_type": "code",
   "execution_count": 12,
   "id": "62429306",
   "metadata": {},
   "outputs": [
    {
     "data": {
      "text/plain": [
       "169.41000000000003"
      ]
     },
     "execution_count": 12,
     "metadata": {},
     "output_type": "execute_result"
    }
   ],
   "source": [
    "# Predição do peso\n",
    "altura01 = 71\n",
    "peso01 = -266.53 + 6.14*altura01\n",
    "peso01"
   ]
  },
  {
   "cell_type": "code",
   "execution_count": 24,
   "id": "81469d95",
   "metadata": {},
   "outputs": [
    {
     "data": {
      "text/plain": [
       "175.55"
      ]
     },
     "execution_count": 24,
     "metadata": {},
     "output_type": "execute_result"
    }
   ],
   "source": [
    "altura02 = 72\n",
    "peso02 = -266.53 + 6.14*altura02\n",
    "peso02"
   ]
  },
  {
   "cell_type": "code",
   "execution_count": 26,
   "id": "f33567b6",
   "metadata": {},
   "outputs": [
    {
     "data": {
      "text/plain": [
       "6.139999999999986"
      ]
     },
     "execution_count": 26,
     "metadata": {},
     "output_type": "execute_result"
    }
   ],
   "source": [
    "# A cada 1 unidade na variável altura irá aumentar 6.14 (resultado b1) no resultado do peso\n",
    "peso02 - peso01"
   ]
  },
  {
   "cell_type": "code",
   "execution_count": null,
   "id": "86d3779b",
   "metadata": {},
   "outputs": [],
   "source": []
  },
  {
   "cell_type": "code",
   "execution_count": null,
   "id": "1a85bc0e",
   "metadata": {},
   "outputs": [],
   "source": []
  },
  {
   "cell_type": "code",
   "execution_count": null,
   "id": "53111a1b",
   "metadata": {},
   "outputs": [],
   "source": []
  },
  {
   "cell_type": "code",
   "execution_count": null,
   "id": "b19b7804",
   "metadata": {},
   "outputs": [],
   "source": []
  },
  {
   "cell_type": "code",
   "execution_count": null,
   "id": "7a525da1",
   "metadata": {},
   "outputs": [],
   "source": []
  },
  {
   "cell_type": "code",
   "execution_count": null,
   "id": "6c90cbe1",
   "metadata": {},
   "outputs": [],
   "source": []
  },
  {
   "cell_type": "code",
   "execution_count": null,
   "id": "772a19f8",
   "metadata": {},
   "outputs": [],
   "source": []
  }
 ],
 "metadata": {
  "kernelspec": {
   "display_name": "Python 3",
   "language": "python",
   "name": "python3"
  },
  "language_info": {
   "codemirror_mode": {
    "name": "ipython",
    "version": 3
   },
   "file_extension": ".py",
   "mimetype": "text/x-python",
   "name": "python",
   "nbconvert_exporter": "python",
   "pygments_lexer": "ipython3",
   "version": "3.8.8"
  }
 },
 "nbformat": 4,
 "nbformat_minor": 5
}
